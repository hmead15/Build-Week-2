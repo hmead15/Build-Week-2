{
 "cells": [
  {
   "cell_type": "code",
   "execution_count": 4,
   "metadata": {},
   "outputs": [],
   "source": [
    "import pandas as pd\n",
    "import numpy as np\n",
    "import matplotlib.pyplot as plt\n",
    "import os\n",
    "import csv"
   ]
  },
  {
   "cell_type": "code",
   "execution_count": 5,
   "metadata": {},
   "outputs": [],
   "source": [
    "df1 = pd.read_csv('/Users/hmead/Desktop/BW2/General characteristics of people.csv', sep=';',engine='python', error_bad_lines=False, encoding= 'latin')\n",
    "df2 = pd.read_csv('/Users/hmead/Desktop/BW2/Datos de la vivienda.csv', sep=';',engine='python', error_bad_lines=False, encoding= 'latin')\n",
    "df3 = pd.read_csv('/Users/hmead/Desktop/BW2/Perception of security and coexistence.csv', sep=';',engine='python', error_bad_lines=False, encoding= 'latin')"
   ]
  },
  {
   "cell_type": "code",
   "execution_count": 115,
   "metadata": {},
   "outputs": [],
   "source": [
    "general = df1.copy()\n",
    "housing = df2.copy()\n",
    "security = df3.copy()"
   ]
  },
  {
   "cell_type": "code",
   "execution_count": 116,
   "metadata": {},
   "outputs": [],
   "source": [
    "general_columns = {\n",
    "            'ï»¿DIRECTORIO':'id', 'SECUENCIA_ENCUESTA':'survey_sequence','SECUENCIA_P':'sequence_p',\n",
    "            'ORDEN':'order', 'P220' : 'sex', 'P5785': 'age', 'P5501':'relationship_to_head_of_household',\n",
    "            'P6210':'education_level','P1366': 'relationship_status','P1402':'time_lived_in_city',\n",
    "            'P1403':'time_lived_in_neighborhood','P1365': 'activity','P1364':'activity_location',\n",
    "            'P1363': 'activity_time_of_day', 'FEX_C': 'gen_expansion'\n",
    "              }\n",
    "\n",
    "housing_columns = {\n",
    "        'ï»¿DIRECTORIO':'id','SECUENCIA_ENCUESTA':'survey_sequence','SECUENCIA_P':'sequence_p',\n",
    "        'ORDEN':'order', 'P5747': 'dwelling_type','P5752':'electricity_service', \n",
    "        'P5752S1':'social_stratum', 'P5090':'own_rent_usufruct_other','DEPMUNI':'dept_muni',\n",
    "        'FEX_C': 'housing_expansion'\n",
    "          }\n",
    "\n",
    "security_columns = {\n",
    "          'ï»¿DIRECTORIO':'id','SECUENCIA_ENCUESTA':'survey_sequence','SECUENCIA_P':'sequence_p',\n",
    "          'P1362':'general_safe_unsafe', 'P1359':'city_safe_unsafe', 'P1594': 'city_security_inc_dec_same',\n",
    "          'P564':'will_be_victim_next_12_months', 'P562':'how_unsafe', 'P1356S1': 'activity_location_safe_unsafe', \n",
    "          'P1356S2':'public_parks_recreational_sports_spaces', 'P1356S3':'market_squares_shopping_streets', \n",
    "          'P1356S4': 'public_transportation', 'P1356S5':'ATMs', 'P1356S6':'public_roads', 'P1356S8':'pedestrian_bridges', \n",
    "          'P1356S7':'nightclubs_bars_entertainment_venues', 'P1116':'measures_taken', 'P1353S1':'justify_violence_family', \n",
    "          'P1353S2':'justify_violence_punishment', 'P1353S3':'justify_violence_self-defense',\n",
    "          'P1117':'how_certain_will_be_victim_next_12_months', \n",
    "          'P1353S4':'justify_violence_infidelity', 'P1353S5':'justify_violence_defend_stranger', \n",
    "          'P1353S6':'justify_violence_defend_property', 'P1115': 'action_taken_as_witness', 'FEX_C': 'sec_expansion'\n",
    "            }"
   ]
  },
  {
   "cell_type": "code",
   "execution_count": 117,
   "metadata": {},
   "outputs": [],
   "source": [
    "general = general.rename(columns = general_columns)\n",
    "housing = housing.rename(columns = housing_columns)\n",
    "security = security.rename(columns = security_columns)"
   ]
  },
  {
   "cell_type": "code",
   "execution_count": 118,
   "metadata": {},
   "outputs": [
    {
     "name": "stdout",
     "output_type": "stream",
     "text": [
      "(64406, 16)\n",
      "(64406, 10)\n",
      "(64406, 49)\n"
     ]
    },
    {
     "name": "stderr",
     "output_type": "stream",
     "text": [
      "<ipython-input-118-67b36480d18c>:20: UserWarning: Boolean Series key will be reindexed to match DataFrame index.\n",
      "  general = general[condition2_g]\n",
      "<ipython-input-118-67b36480d18c>:21: UserWarning: Boolean Series key will be reindexed to match DataFrame index.\n",
      "  general = general[condition3_g]\n",
      "<ipython-input-118-67b36480d18c>:24: UserWarning: Boolean Series key will be reindexed to match DataFrame index.\n",
      "  security = security[condition3_s]\n"
     ]
    }
   ],
   "source": [
    "# Housing dataset only has data from:\n",
    "\n",
    "   # 'sequence_p' ==1        &\n",
    "   # 'survey_sequence']==1\n",
    "\n",
    "# Security dataset only has data from:\n",
    "   # 'age' >14\n",
    "\n",
    "condition1 = general['age']>14\n",
    "\n",
    "condition2_g = general['sequence_p'] ==1\n",
    "condition3_g = general['survey_sequence']==1\n",
    "\n",
    "condition2_s = security['sequence_p'] ==1\n",
    "condition3_s = security['survey_sequence']==1\n",
    "\n",
    "# Apply conditions, in preparation for horizontal merge\n",
    "\n",
    "general = general[condition1]\n",
    "general = general[condition2_g]\n",
    "general = general[condition3_g]\n",
    "\n",
    "security = security[condition2_s]\n",
    "security = security[condition3_s]\n",
    "\n",
    "# Confirm rows\n",
    "\n",
    "print(general.shape)\n",
    "print(housing.shape)\n",
    "print(security.shape);"
   ]
  },
  {
   "cell_type": "code",
   "execution_count": 119,
   "metadata": {},
   "outputs": [],
   "source": [
    "# Drop Columns with lots of NaNs\n",
    "\n",
    "general_drop_columns = ['P6210S1', 'gen_expansion', 'survey_sequence', 'sequence_p',\n",
    "                       'activity_location', 'activity_time_of_day', ]\n",
    "\n",
    "housing_drop_columns = ['housing_expansion', 'survey_sequence', 'sequence_p']\n",
    "\n",
    "security_drop_columns = ['how_unsafe','how_certain_will_be_victim_next_12_months',\n",
    "                         'P1361S1','P1361S2','P1361S3','P1361S4','P1361S5','P1361S6',\n",
    "                         'P1361S7','P1361S8','P1361S9', 'P563','P1358S1','P1358S10',\n",
    "                         'P1358S2','P1358S3','P1358S4','P1358S5','P1358S6','P1358S7',\n",
    "                         'P1361S1', 'P1361S2', 'P1361S3', 'P1361S4', 'survey_sequence',\n",
    "                         'sequence_p','P1358S8', 'P1358S9', 'P1361S10','P1358S11', \n",
    "                          'P1361S10','sec_expansion','ORDEN']"
   ]
  },
  {
   "cell_type": "code",
   "execution_count": 120,
   "metadata": {},
   "outputs": [],
   "source": [
    "general = general.drop(general_drop_columns, axis=1)\n",
    "\n",
    "housing = housing.drop(housing_drop_columns, axis=1)\n",
    "\n",
    "security = security.drop(security_drop_columns, axis=1)"
   ]
  },
  {
   "cell_type": "code",
   "execution_count": 121,
   "metadata": {},
   "outputs": [
    {
     "data": {
      "text/plain": [
       "(64406, 36)"
      ]
     },
     "execution_count": 121,
     "metadata": {},
     "output_type": "execute_result"
    }
   ],
   "source": [
    "# Merge into one dataframe\n",
    "\n",
    "df = general.merge(housing, on='id').merge(security, on='id')\n",
    "\n",
    "df.shape"
   ]
  },
  {
   "cell_type": "code",
   "execution_count": 122,
   "metadata": {},
   "outputs": [
    {
     "data": {
      "text/plain": [
       "(64406, 33)"
      ]
     },
     "execution_count": 122,
     "metadata": {},
     "output_type": "execute_result"
    }
   ],
   "source": [
    "for col in df.columns:\n",
    "    if len(df[col].unique()) == 1:\n",
    "        df = df.drop(col,axis=1)\n",
    "df.shape"
   ]
  },
  {
   "cell_type": "code",
   "execution_count": 124,
   "metadata": {},
   "outputs": [],
   "source": [
    "import numpy as np\n",
    "\n",
    "df = df.replace(' ', np.NaN)"
   ]
  },
  {
   "cell_type": "code",
   "execution_count": 125,
   "metadata": {},
   "outputs": [],
   "source": [
    "df = df[df.social_stratum.notnull()]"
   ]
  },
  {
   "cell_type": "code",
   "execution_count": 126,
   "metadata": {},
   "outputs": [],
   "source": [
    "objects = df.select_dtypes('object').columns.tolist()\n",
    "df[objects] = df[objects].astype('float')"
   ]
  },
  {
   "cell_type": "code",
   "execution_count": 127,
   "metadata": {},
   "outputs": [],
   "source": [
    "column_list = df.nunique().index.tolist()"
   ]
  },
  {
   "cell_type": "code",
   "execution_count": 128,
   "metadata": {},
   "outputs": [],
   "source": [
    "target = column_list[13]\n",
    "leakage = column_list[13:23]"
   ]
  },
  {
   "cell_type": "code",
   "execution_count": 129,
   "metadata": {},
   "outputs": [
    {
     "data": {
      "text/plain": [
       "1    0.713263\n",
       "2    0.286737\n",
       "Name: general_safe_unsafe, dtype: float64"
      ]
     },
     "execution_count": 129,
     "metadata": {},
     "output_type": "execute_result"
    }
   ],
   "source": [
    "df[target].value_counts(normalize=True)"
   ]
  },
  {
   "cell_type": "code",
   "execution_count": 130,
   "metadata": {},
   "outputs": [],
   "source": [
    "from sklearn.model_selection import train_test_split\n",
    "train, test = train_test_split(df, train_size=0.85, test_size=0.15, \n",
    "                              stratify=df['general_safe_unsafe'], random_state=42)\n",
    "\n",
    "train, val = train_test_split(train, train_size=0.85, test_size=0.15, \n",
    "                              stratify=train['general_safe_unsafe'], random_state=42)"
   ]
  },
  {
   "cell_type": "code",
   "execution_count": 131,
   "metadata": {},
   "outputs": [
    {
     "name": "stdout",
     "output_type": "stream",
     "text": [
      "(46325, 33)\n",
      "(8175, 33)\n",
      "(9618, 33)\n"
     ]
    }
   ],
   "source": [
    "print(train.shape)\n",
    "print(val.shape)\n",
    "print(test.shape)"
   ]
  },
  {
   "cell_type": "code",
   "execution_count": 132,
   "metadata": {},
   "outputs": [
    {
     "name": "stdout",
     "output_type": "stream",
     "text": [
      "(46325,)\n",
      "(46325, 23)\n",
      "(8175,)\n",
      "(8175, 23)\n",
      "(9618,)\n",
      "(9618, 23)\n"
     ]
    }
   ],
   "source": [
    "y_train = train[target]\n",
    "y_val = val[target]\n",
    "y_test = test[target]\n",
    "\n",
    "X_train = train.drop(train[leakage], axis=1)\n",
    "X_val = val.drop(val[leakage], axis=1)\n",
    "X_test = test.drop(test[leakage], axis=1)\n",
    "\n",
    "print(y_train.shape)\n",
    "print(X_train.shape)\n",
    "\n",
    "print(y_val.shape)\n",
    "print(X_val.shape)\n",
    "\n",
    "print(y_test.shape)\n",
    "print(X_test.shape)"
   ]
  },
  {
   "cell_type": "code",
   "execution_count": 138,
   "metadata": {},
   "outputs": [
    {
     "name": "stdout",
     "output_type": "stream",
     "text": [
      "Validation Accuracy 0.744954128440367\n",
      "\n",
      "Test Accuracy 0.7425660220420046\n"
     ]
    }
   ],
   "source": [
    "from sklearn.ensemble import RandomForestClassifier\n",
    "\n",
    "model = (\n",
    "    RandomForestClassifier(n_estimators=100, random_state=42, n_jobs=-1)\n",
    ")\n",
    "\n",
    "# Fit on train, score on val\n",
    "model.fit(X_train, y_train)\n",
    "\n",
    "print('Validation Accuracy', model.score(X_val, y_val))\n",
    "print('\\nTest Accuracy', model.score(X_test, y_test))\n",
    "\n"
   ]
  },
  {
   "cell_type": "code",
   "execution_count": null,
   "metadata": {},
   "outputs": [],
   "source": []
  }
 ],
 "metadata": {
  "kernelspec": {
   "display_name": "Python 3",
   "language": "python",
   "name": "python3"
  },
  "language_info": {
   "codemirror_mode": {
    "name": "ipython",
    "version": 3
   },
   "file_extension": ".py",
   "mimetype": "text/x-python",
   "name": "python",
   "nbconvert_exporter": "python",
   "pygments_lexer": "ipython3",
   "version": "3.8.3"
  }
 },
 "nbformat": 4,
 "nbformat_minor": 4
}
