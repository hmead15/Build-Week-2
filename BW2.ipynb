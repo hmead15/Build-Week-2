{
 "cells": [
  {
   "cell_type": "code",
   "execution_count": 83,
   "metadata": {},
   "outputs": [],
   "source": [
    "import pandas as pd\n",
    "import numpy as np\n",
    "import matplotlib.pyplot as plt\n",
    "import os\n",
    "import csv"
   ]
  },
  {
   "cell_type": "code",
   "execution_count": 84,
   "metadata": {},
   "outputs": [],
   "source": [
    "df1 = pd.read_csv('/Users/hmead/Desktop/BW2/General characteristics of people.csv', sep=';',engine='python', error_bad_lines=False, encoding= 'latin')\n",
    "df2 = pd.read_csv('/Users/hmead/Desktop/BW2/Datos de la vivienda.csv', sep=';',engine='python', error_bad_lines=False, encoding= 'latin')\n",
    "df3 = pd.read_csv('/Users/hmead/Desktop/BW2/Perception of security and coexistence.csv', sep=';',engine='python', error_bad_lines=False, encoding= 'latin')"
   ]
  },
  {
   "cell_type": "code",
   "execution_count": 94,
   "metadata": {},
   "outputs": [],
   "source": [
    "general = df1.copy()\n",
    "housing = df2.copy()\n",
    "security = df3.copy()"
   ]
  },
  {
   "cell_type": "code",
   "execution_count": 95,
   "metadata": {},
   "outputs": [],
   "source": [
    "general_columns = {\n",
    "            'ï»¿DIRECTORIO':'id', 'SECUENCIA_ENCUESTA':'survey_sequence','SECUENCIA_P':'sequence_p',\n",
    "            'ORDEN':'order', 'P220' : 'sex', 'P5785': 'age', 'P5501':'relationship_to_head_of_household',\n",
    "            'P6210':'education_level','P1366': 'relationship_status','P1402':'time_lived_in_city',\n",
    "            'P1403':'time_lived_in_neighborhood','P1365': 'activity','P1364':'activity_location',\n",
    "            'P1363': 'activity_time_of_day', 'FEX_C': 'gen_expansion'\n",
    "              }\n",
    "\n",
    "housing_columns = {\n",
    "        'ï»¿DIRECTORIO':'id','SECUENCIA_ENCUESTA':'survey_sequence','SECUENCIA_P':'sequence_p',\n",
    "        'ORDEN':'order', 'P5747': 'dwelling_type','P5752':'electricity_service', \n",
    "        'P5752S1':'social_stratum', 'P5090':'own_rent_usufruct_other','DEPMUNI':'dept_muni',\n",
    "        'FEX_C': 'housing_expansion'\n",
    "          }\n",
    "\n",
    "security_columns = {\n",
    "          'ï»¿DIRECTORIO':'id','SECUENCIA_ENCUESTA':'survey_sequence','SECUENCIA_P':'sequence_p',\n",
    "          'P1362':'general_safe_unsafe', 'P1359':'city_safe_unsafe', 'P1594': 'city_security_inc_dec_same',\n",
    "          'P564':'will_be_victim_next_12_months', 'P562':'how_unsafe', 'P1356S1': 'activity_location_safe_unsafe', \n",
    "          'P1356S2':'public_parks_recreational_sports_spaces', 'P1356S3':'market_squares_shopping_streets', \n",
    "          'P1356S4': 'public_transportation', 'P1356S5':'ATMs', 'P1356S6':'public_roads', 'P1356S8':'pedestrian_bridges', \n",
    "          'P1356S7':'nightclubs_bars_entertainment_venues', 'P1116':'measures_taken', 'P1353S1':'justify_violence_family', \n",
    "          'P1353S2':'justify_violence_punishment', 'P1353S3':'justify_violence_self-defense',\n",
    "          'P1117':'how_certain_will_be_victim_next_12_months', \n",
    "          'P1353S4':'justify_violence_infidelity', 'P1353S5':'justify_violence_defend_stranger', \n",
    "          'P1353S6':'justify_violence_defend_property', 'P1115': 'action_taken_as_witness', 'FEX_C': 'sec_expansion'\n",
    "            }"
   ]
  },
  {
   "cell_type": "code",
   "execution_count": 96,
   "metadata": {},
   "outputs": [],
   "source": [
    "general = general.rename(columns = general_columns)\n",
    "housing = housing.rename(columns = housing_columns)\n",
    "security = security.rename(columns = security_columns)"
   ]
  },
  {
   "cell_type": "code",
   "execution_count": 97,
   "metadata": {},
   "outputs": [
    {
     "data": {
      "text/html": [
       "<div>\n",
       "<style scoped>\n",
       "    .dataframe tbody tr th:only-of-type {\n",
       "        vertical-align: middle;\n",
       "    }\n",
       "\n",
       "    .dataframe tbody tr th {\n",
       "        vertical-align: top;\n",
       "    }\n",
       "\n",
       "    .dataframe thead th {\n",
       "        text-align: right;\n",
       "    }\n",
       "</style>\n",
       "<table border=\"1\" class=\"dataframe\">\n",
       "  <thead>\n",
       "    <tr style=\"text-align: right;\">\n",
       "      <th></th>\n",
       "      <th>id</th>\n",
       "      <th>survey_sequence</th>\n",
       "      <th>sequence_p</th>\n",
       "      <th>order</th>\n",
       "      <th>sex</th>\n",
       "      <th>age</th>\n",
       "      <th>relationship_to_head_of_household</th>\n",
       "      <th>education_level</th>\n",
       "      <th>P6210S1</th>\n",
       "      <th>relationship_status</th>\n",
       "      <th>time_lived_in_city</th>\n",
       "      <th>time_lived_in_neighborhood</th>\n",
       "      <th>activity</th>\n",
       "      <th>activity_location</th>\n",
       "      <th>activity_time_of_day</th>\n",
       "      <th>gen_expansion</th>\n",
       "    </tr>\n",
       "  </thead>\n",
       "  <tbody>\n",
       "    <tr>\n",
       "      <th>0</th>\n",
       "      <td>225001</td>\n",
       "      <td>1</td>\n",
       "      <td>1</td>\n",
       "      <td>1</td>\n",
       "      <td>1</td>\n",
       "      <td>48</td>\n",
       "      <td>1</td>\n",
       "      <td>3</td>\n",
       "      <td>304</td>\n",
       "      <td>2</td>\n",
       "      <td>4</td>\n",
       "      <td>4</td>\n",
       "      <td>1</td>\n",
       "      <td>5</td>\n",
       "      <td>1</td>\n",
       "      <td>372,094531330457</td>\n",
       "    </tr>\n",
       "    <tr>\n",
       "      <th>1</th>\n",
       "      <td>225001</td>\n",
       "      <td>1</td>\n",
       "      <td>2</td>\n",
       "      <td>2</td>\n",
       "      <td>2</td>\n",
       "      <td>55</td>\n",
       "      <td>2</td>\n",
       "      <td>3</td>\n",
       "      <td>302</td>\n",
       "      <td>2</td>\n",
       "      <td>4</td>\n",
       "      <td>4</td>\n",
       "      <td>4</td>\n",
       "      <td></td>\n",
       "      <td></td>\n",
       "      <td>372,094531330457</td>\n",
       "    </tr>\n",
       "    <tr>\n",
       "      <th>2</th>\n",
       "      <td>225001</td>\n",
       "      <td>1</td>\n",
       "      <td>3</td>\n",
       "      <td>3</td>\n",
       "      <td>1</td>\n",
       "      <td>31</td>\n",
       "      <td>3</td>\n",
       "      <td>5</td>\n",
       "      <td>511</td>\n",
       "      <td>6</td>\n",
       "      <td>4</td>\n",
       "      <td>4</td>\n",
       "      <td>1</td>\n",
       "      <td>6</td>\n",
       "      <td>3</td>\n",
       "      <td>372,094531330457</td>\n",
       "    </tr>\n",
       "    <tr>\n",
       "      <th>3</th>\n",
       "      <td>225002</td>\n",
       "      <td>1</td>\n",
       "      <td>1</td>\n",
       "      <td>1</td>\n",
       "      <td>1</td>\n",
       "      <td>26</td>\n",
       "      <td>1</td>\n",
       "      <td>6</td>\n",
       "      <td>603</td>\n",
       "      <td>6</td>\n",
       "      <td>3</td>\n",
       "      <td>1</td>\n",
       "      <td>1</td>\n",
       "      <td>6</td>\n",
       "      <td>1</td>\n",
       "      <td>354,84561144316</td>\n",
       "    </tr>\n",
       "    <tr>\n",
       "      <th>4</th>\n",
       "      <td>225002</td>\n",
       "      <td>1</td>\n",
       "      <td>2</td>\n",
       "      <td>2</td>\n",
       "      <td>2</td>\n",
       "      <td>25</td>\n",
       "      <td>7</td>\n",
       "      <td>5</td>\n",
       "      <td>511</td>\n",
       "      <td>6</td>\n",
       "      <td>3</td>\n",
       "      <td>1</td>\n",
       "      <td>3</td>\n",
       "      <td></td>\n",
       "      <td></td>\n",
       "      <td>354,84561144316</td>\n",
       "    </tr>\n",
       "  </tbody>\n",
       "</table>\n",
       "</div>"
      ],
      "text/plain": [
       "       id  survey_sequence  sequence_p  order  sex  age  \\\n",
       "0  225001                1           1      1    1   48   \n",
       "1  225001                1           2      2    2   55   \n",
       "2  225001                1           3      3    1   31   \n",
       "3  225002                1           1      1    1   26   \n",
       "4  225002                1           2      2    2   25   \n",
       "\n",
       "   relationship_to_head_of_household education_level P6210S1  \\\n",
       "0                                  1               3     304   \n",
       "1                                  2               3     302   \n",
       "2                                  3               5     511   \n",
       "3                                  1               6     603   \n",
       "4                                  7               5     511   \n",
       "\n",
       "  relationship_status time_lived_in_city time_lived_in_neighborhood activity  \\\n",
       "0                   2                  4                          4        1   \n",
       "1                   2                  4                          4        4   \n",
       "2                   6                  4                          4        1   \n",
       "3                   6                  3                          1        1   \n",
       "4                   6                  3                          1        3   \n",
       "\n",
       "  activity_location activity_time_of_day     gen_expansion  \n",
       "0                 5                    1  372,094531330457  \n",
       "1                                         372,094531330457  \n",
       "2                 6                    3  372,094531330457  \n",
       "3                 6                    1   354,84561144316  \n",
       "4                                          354,84561144316  "
      ]
     },
     "execution_count": 97,
     "metadata": {},
     "output_type": "execute_result"
    }
   ],
   "source": [
    "general.head()\n",
    "# housing.head()\n",
    "#security.head()"
   ]
  },
  {
   "cell_type": "code",
   "execution_count": 98,
   "metadata": {},
   "outputs": [
    {
     "name": "stdout",
     "output_type": "stream",
     "text": [
      "(64406, 16)\n",
      "(64406, 10)\n",
      "(64406, 49)\n"
     ]
    },
    {
     "name": "stderr",
     "output_type": "stream",
     "text": [
      "<ipython-input-98-6e7fac3e2cd4>:20: UserWarning: Boolean Series key will be reindexed to match DataFrame index.\n",
      "  general = general[condition2_g]\n",
      "<ipython-input-98-6e7fac3e2cd4>:21: UserWarning: Boolean Series key will be reindexed to match DataFrame index.\n",
      "  general = general[condition3_g]\n",
      "<ipython-input-98-6e7fac3e2cd4>:24: UserWarning: Boolean Series key will be reindexed to match DataFrame index.\n",
      "  security = security[condition3_s]\n"
     ]
    }
   ],
   "source": [
    "# Housing dataset only has data from:\n",
    "\n",
    "   # 'sequence_p' ==1        &\n",
    "   # 'survey_sequence']==1\n",
    "\n",
    "# Security dataset only has data from:\n",
    "   # 'age' >14\n",
    "\n",
    "condition1 = general['age']>14\n",
    "\n",
    "condition2_g = general['sequence_p'] ==1\n",
    "condition3_g = general['survey_sequence']==1\n",
    "\n",
    "condition2_s = security['sequence_p'] ==1\n",
    "condition3_s = security['survey_sequence']==1\n",
    "\n",
    "# Apply conditions, in preparation for horizontal merge\n",
    "\n",
    "general = general[condition1]\n",
    "general = general[condition2_g]\n",
    "general = general[condition3_g]\n",
    "\n",
    "security = security[condition2_s]\n",
    "security = security[condition3_s]\n",
    "\n",
    "# Confirm rows\n",
    "\n",
    "print(general.shape)\n",
    "print(housing.shape)\n",
    "print(security.shape)"
   ]
  },
  {
   "cell_type": "code",
   "execution_count": 101,
   "metadata": {},
   "outputs": [],
   "source": [
    "# Drop Columns with lots of NaNs\n",
    "\n",
    "general_drop_columns = ['P6210S1', 'gen_expansion', 'survey_sequence', 'sequence_p']\n",
    "\n",
    "housing_drop_columns = ['housing_expansion', 'survey_sequence', 'sequence_p']\n",
    "\n",
    "security_drop_columns = ['P1361S1','P1361S2','P1361S3','P1361S4','P1361S5','P1361S6',\n",
    "                         'P1361S7','P1361S8','P1361S9', 'P563','P1358S1','P1358S10',\n",
    "                         'P1358S2','P1358S3','P1358S4','P1358S5','P1358S6','P1358S7',\n",
    "                         'P1361S1', 'P1361S2', 'P1361S3', 'P1361S4', 'survey_sequence',\n",
    "                         'sequence_p','P1358S8', 'P1358S9', 'P1361S10','P1358S11', 'P1361S10','ORDEN']"
   ]
  },
  {
   "cell_type": "code",
   "execution_count": 102,
   "metadata": {},
   "outputs": [],
   "source": [
    "general = general.drop(general_drop_columns, axis=1)\n",
    "\n",
    "housing = housing.drop(housing_drop_columns, axis=1)\n",
    "\n",
    "security = security.drop(security_drop_columns, axis=1)"
   ]
  },
  {
   "cell_type": "code",
   "execution_count": 103,
   "metadata": {},
   "outputs": [
    {
     "name": "stdout",
     "output_type": "stream",
     "text": [
      "(64406, 12)\n",
      "(64406, 7)\n",
      "(64406, 24)\n"
     ]
    }
   ],
   "source": [
    "print(general.shape)\n",
    "print(housing.shape)\n",
    "print(security.shape)"
   ]
  },
  {
   "cell_type": "code",
   "execution_count": 104,
   "metadata": {},
   "outputs": [
    {
     "data": {
      "text/plain": [
       "(64406, 41)"
      ]
     },
     "execution_count": 104,
     "metadata": {},
     "output_type": "execute_result"
    }
   ],
   "source": [
    "# Merge into one dataframe\n",
    "\n",
    "df = general.merge(housing, on='id').merge(security, on='id')\n",
    "\n",
    "df.shape"
   ]
  },
  {
   "cell_type": "code",
   "execution_count": 105,
   "metadata": {},
   "outputs": [],
   "source": [
    "for col in df.columns:\n",
    "    if len(df[col].unique()) == 1:\n",
    "        df = df.drop(col,axis=1)"
   ]
  },
  {
   "cell_type": "code",
   "execution_count": 106,
   "metadata": {},
   "outputs": [],
   "source": [
    "columns = df.dtypes.index.to_list()"
   ]
  },
  {
   "cell_type": "code",
   "execution_count": 107,
   "metadata": {},
   "outputs": [
    {
     "data": {
      "text/plain": [
       "1    0.713319\n",
       "2    0.286681\n",
       "Name: general_safe_unsafe, dtype: float64"
      ]
     },
     "execution_count": 107,
     "metadata": {},
     "output_type": "execute_result"
    }
   ],
   "source": [
    "df.general_safe_unsafe.value_counts(normalize=True)"
   ]
  },
  {
   "cell_type": "code",
   "execution_count": 108,
   "metadata": {},
   "outputs": [
    {
     "data": {
      "text/plain": [
       "2    0.709872\n",
       "1    0.151290\n",
       "4    0.109959\n",
       "3    0.028879\n",
       "Name: action_taken_as_witness, dtype: float64"
      ]
     },
     "execution_count": 108,
     "metadata": {},
     "output_type": "execute_result"
    }
   ],
   "source": [
    "df.action_taken_as_witness.value_counts(normalize=True)"
   ]
  },
  {
   "cell_type": "code",
   "execution_count": 109,
   "metadata": {},
   "outputs": [
    {
     "data": {
      "text/plain": [
       "id                                           64406\n",
       "sex                                              2\n",
       "age                                             89\n",
       "education_level                                  7\n",
       "relationship_status                              6\n",
       "time_lived_in_city                               4\n",
       "time_lived_in_neighborhood                       4\n",
       "activity                                         8\n",
       "activity_location                               10\n",
       "activity_time_of_day                             4\n",
       "dwelling_type                                    4\n",
       "electricity_service                              2\n",
       "social_stratum                                   9\n",
       "own_rent_usufruct_other                          4\n",
       "dept_muni                                       28\n",
       "general_safe_unsafe                              2\n",
       "how_unsafe                                       4\n",
       "city_safe_unsafe                                 2\n",
       "will_be_victim_next_12_months                    2\n",
       "how_certain_will_be_victim_next_12_months        4\n",
       "activity_location_safe_unsafe                    2\n",
       "public_parks_recreational_sports_spaces          3\n",
       "market_squares_shopping_streets                  3\n",
       "public_transportation                            3\n",
       "ATMs                                             3\n",
       "public_roads                                     2\n",
       "nightclubs_bars_entertainment_venues             3\n",
       "measures_taken                                   8\n",
       "justify_violence_family                          2\n",
       "justify_violence_punishment                      2\n",
       "justify_violence_self-defense                    2\n",
       "justify_violence_infidelity                      2\n",
       "justify_violence_defend_stranger                 2\n",
       "justify_violence_defend_property                 2\n",
       "action_taken_as_witness                          4\n",
       "pedestrian_bridges                               3\n",
       "city_security_inc_dec_same                       3\n",
       "sec_expansion                                16867\n",
       "dtype: int64"
      ]
     },
     "execution_count": 109,
     "metadata": {},
     "output_type": "execute_result"
    }
   ],
   "source": [
    "df.nunique()"
   ]
  },
  {
   "cell_type": "code",
   "execution_count": 78,
   "metadata": {},
   "outputs": [
    {
     "data": {
      "text/plain": [
       "1    0.653961\n",
       "4    0.180822\n",
       "6    0.079682\n",
       "2    0.026271\n",
       "7    0.019191\n",
       "3    0.017607\n",
       "5    0.015573\n",
       "8    0.006894\n",
       "Name: activity, dtype: float64"
      ]
     },
     "execution_count": 78,
     "metadata": {},
     "output_type": "execute_result"
    }
   ],
   "source": [
    "df.activity.value_counts(normalize = True)"
   ]
  },
  {
   "cell_type": "code",
   "execution_count": 41,
   "metadata": {},
   "outputs": [
    {
     "data": {
      "text/plain": [
       "2    0.583579\n",
       "1    0.416421\n",
       "Name: will_be_victim_next_12_months, dtype: float64"
      ]
     },
     "execution_count": 41,
     "metadata": {},
     "output_type": "execute_result"
    }
   ],
   "source": [
    "df.will_be_victim_next_12_months.value_counts(normalize = True)"
   ]
  },
  {
   "cell_type": "code",
   "execution_count": null,
   "metadata": {},
   "outputs": [],
   "source": []
  }
 ],
 "metadata": {
  "kernelspec": {
   "display_name": "Python 3",
   "language": "python",
   "name": "python3"
  },
  "language_info": {
   "codemirror_mode": {
    "name": "ipython",
    "version": 3
   },
   "file_extension": ".py",
   "mimetype": "text/x-python",
   "name": "python",
   "nbconvert_exporter": "python",
   "pygments_lexer": "ipython3",
   "version": "3.8.3"
  }
 },
 "nbformat": 4,
 "nbformat_minor": 4
}
