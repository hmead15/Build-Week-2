{
 "cells": [
  {
   "cell_type": "code",
   "execution_count": 1,
   "metadata": {},
   "outputs": [],
   "source": [
    "import pandas as pd\n",
    "import numpy as np\n",
    "import matplotlib.pyplot as plt\n",
    "import os\n",
    "import csv"
   ]
  },
  {
   "cell_type": "code",
   "execution_count": 2,
   "metadata": {},
   "outputs": [],
   "source": [
    "df1 = pd.read_csv('/Users/hmead/Desktop/BW2/General characteristics of people.csv', sep=';',engine='python', error_bad_lines=False, encoding= 'latin')\n",
    "df2 = pd.read_csv('/Users/hmead/Desktop/BW2/Datos de la vivienda.csv', sep=';',engine='python', error_bad_lines=False, encoding= 'latin')\n",
    "df3 = pd.read_csv('/Users/hmead/Desktop/BW2/Perception of security and coexistence.csv', sep=';',engine='python', error_bad_lines=False, encoding= 'latin')"
   ]
  },
  {
   "cell_type": "code",
   "execution_count": 3,
   "metadata": {},
   "outputs": [],
   "source": [
    "general = df1.copy()\n",
    "housing = df2.copy()\n",
    "security = df3.copy()"
   ]
  },
  {
   "cell_type": "code",
   "execution_count": 4,
   "metadata": {},
   "outputs": [],
   "source": [
    "general_columns = {\n",
    "            'ï»¿DIRECTORIO':'id', 'SECUENCIA_ENCUESTA':'survey_sequence','SECUENCIA_P':'sequence_p',\n",
    "            'ORDEN':'order', 'P220' : 'sex', 'P5785': 'age', 'P5501':'relationship_to_head_of_household',\n",
    "            'P6210':'education_level','P1366': 'relationship_status','P1402':'time_lived_in_city',\n",
    "            'P1403':'time_lived_in_neighborhood','P1365': 'activity','P1364':'activity_location',\n",
    "            'P1363': 'activity_time_of_day', 'FEX_C': 'gen_expansion'\n",
    "              }\n",
    "\n",
    "housing_columns = {\n",
    "        'ï»¿DIRECTORIO':'id','SECUENCIA_ENCUESTA':'survey_sequence','SECUENCIA_P':'sequence_p',\n",
    "        'ORDEN':'order', 'P5747': 'dwelling_type','P5752':'electricity_service', \n",
    "        'P5752S1':'social_stratum', 'P5090':'housing_status','DEPMUNI':'dept_muni',\n",
    "        'FEX_C': 'housing_expansion'\n",
    "          }\n",
    "\n",
    "security_columns = {\n",
    "          'ï»¿DIRECTORIO':'id','SECUENCIA_ENCUESTA':'survey_sequence','SECUENCIA_P':'sequence_p',\n",
    "          'P1362':'general_safe_unsafe', 'P1359':'city_safe_unsafe', 'P1594': 'city_security_inc_dec_same',\n",
    "          'P564':'will_be_victim_next_12_months', 'P562':'how_unsafe', 'P1356S1': 'activity_location_safe_unsafe', \n",
    "          'P1356S2':'public_parks_recreational_sports_spaces', 'P1356S3':'market_squares_shopping_streets', \n",
    "          'P1356S4': 'public_transportation', 'P1356S5':'ATMs', 'P1356S6':'public_roads', 'P1356S8':'pedestrian_bridges', \n",
    "          'P1356S7':'nightclubs_bars_entertainment_venues', 'P1116':'measures_taken', 'P1353S1':'justify_violence_family', \n",
    "          'P1353S2':'justify_violence_punishment', 'P1353S3':'justify_violence_self-defense',\n",
    "          'P1117':'how_certain_will_be_victim_next_12_months', \n",
    "          'P1353S4':'justify_violence_infidelity', 'P1353S5':'justify_violence_defend_stranger', \n",
    "          'P1353S6':'justify_violence_defend_property', 'P1115': 'action_taken_as_witness', 'FEX_C': 'sec_expansion'\n",
    "            }"
   ]
  },
  {
   "cell_type": "code",
   "execution_count": 5,
   "metadata": {},
   "outputs": [],
   "source": [
    "general = general.rename(columns = general_columns)\n",
    "housing = housing.rename(columns = housing_columns)\n",
    "security = security.rename(columns = security_columns)"
   ]
  },
  {
   "cell_type": "code",
   "execution_count": 6,
   "metadata": {},
   "outputs": [
    {
     "name": "stdout",
     "output_type": "stream",
     "text": [
      "(64406, 16)\n",
      "(64406, 10)\n",
      "(64406, 49)\n"
     ]
    },
    {
     "name": "stderr",
     "output_type": "stream",
     "text": [
      "<ipython-input-6-67b36480d18c>:20: UserWarning: Boolean Series key will be reindexed to match DataFrame index.\n",
      "  general = general[condition2_g]\n",
      "<ipython-input-6-67b36480d18c>:21: UserWarning: Boolean Series key will be reindexed to match DataFrame index.\n",
      "  general = general[condition3_g]\n",
      "<ipython-input-6-67b36480d18c>:24: UserWarning: Boolean Series key will be reindexed to match DataFrame index.\n",
      "  security = security[condition3_s]\n"
     ]
    }
   ],
   "source": [
    "# Housing dataset only has data from:\n",
    "\n",
    "   # 'sequence_p' ==1        &\n",
    "   # 'survey_sequence']==1\n",
    "\n",
    "# Security dataset only has data from:\n",
    "   # 'age' >14\n",
    "\n",
    "condition1 = general['age']>14\n",
    "\n",
    "condition2_g = general['sequence_p'] ==1\n",
    "condition3_g = general['survey_sequence']==1\n",
    "\n",
    "condition2_s = security['sequence_p'] ==1\n",
    "condition3_s = security['survey_sequence']==1\n",
    "\n",
    "# Apply conditions, in preparation for horizontal merge\n",
    "\n",
    "general = general[condition1]\n",
    "general = general[condition2_g]\n",
    "general = general[condition3_g]\n",
    "\n",
    "security = security[condition2_s]\n",
    "security = security[condition3_s]\n",
    "\n",
    "# Confirm rows\n",
    "\n",
    "print(general.shape)\n",
    "print(housing.shape)\n",
    "print(security.shape);"
   ]
  },
  {
   "cell_type": "code",
   "execution_count": 7,
   "metadata": {},
   "outputs": [],
   "source": [
    "# Drop Columns with lots of NaNs\n",
    "\n",
    "general_drop_columns = ['P6210S1', 'gen_expansion', 'survey_sequence', 'sequence_p',\n",
    "                       'activity_location', 'activity_time_of_day', 'relationship_to_head_of_household',]\n",
    "\n",
    "housing_drop_columns = ['housing_expansion', 'survey_sequence', 'sequence_p']\n",
    "\n",
    "security_drop_columns = ['how_unsafe','how_certain_will_be_victim_next_12_months',\n",
    "                         'P1361S1','P1361S2','P1361S3','P1361S4','P1361S5','P1361S6',\n",
    "                         'P1361S7','P1361S8','P1361S9', 'P563','P1358S1','P1358S10',\n",
    "                         'P1358S2','P1358S3','P1358S4','P1358S5','P1358S6','P1358S7',\n",
    "                         'P1361S1', 'P1361S2', 'P1361S3', 'P1361S4', 'survey_sequence',\n",
    "                         'sequence_p','P1358S8', 'P1358S9', 'P1361S10','P1358S11', \n",
    "                          'P1361S10','sec_expansion','ORDEN']"
   ]
  },
  {
   "cell_type": "code",
   "execution_count": 8,
   "metadata": {},
   "outputs": [],
   "source": [
    "general = general.drop(general_drop_columns, axis=1)\n",
    "\n",
    "housing = housing.drop(housing_drop_columns, axis=1)\n",
    "\n",
    "security = security.drop(security_drop_columns, axis=1)"
   ]
  },
  {
   "cell_type": "markdown",
   "metadata": {},
   "source": [
    "# MERGE INTO DAFAFRAME"
   ]
  },
  {
   "cell_type": "code",
   "execution_count": 9,
   "metadata": {},
   "outputs": [
    {
     "data": {
      "text/plain": [
       "(64406, 35)"
      ]
     },
     "execution_count": 9,
     "metadata": {},
     "output_type": "execute_result"
    }
   ],
   "source": [
    "# Merge into one dataframe\n",
    "\n",
    "df = general.merge(housing, on='id').merge(security, on='id')\n",
    "\n",
    "df.shape"
   ]
  },
  {
   "cell_type": "code",
   "execution_count": 10,
   "metadata": {},
   "outputs": [],
   "source": [
    "# education_level\n",
    "\n",
    "# def assign_edu(x):\n",
    "#     for x in df['education_level']:\n",
    "#         if x == '1':\n",
    "#             x= 'None'\n",
    "#         elif x =='2':\n",
    "#             x= 'Preschool'\n",
    "#         elif x == '3':\n",
    "#             x = 'Basic elementary'\n",
    "#         elif x == '4':\n",
    "#             x = 'Basic secondary'\n",
    "#         elif x == '5':\n",
    "#             x = 'Medium'\n",
    "#         elif x == '6':\n",
    "#             x = 'Higher or university'\n",
    "#         else: x = np.NaN\n",
    "            \n",
    "# df.education_level = df.education_level.apply(assign_edu)\n"
   ]
  },
  {
   "cell_type": "code",
   "execution_count": 11,
   "metadata": {},
   "outputs": [],
   "source": [
    "# QUESTION 1:\n",
    "\n",
    "# df.education_level = df.education_level.replace(['1','2','3','4','5','6', '9'], \n",
    "#                                                 ['None', 'Preschool', 'Basic elementary', 'Basic secondary', \n",
    "#                                                 'Medium', 'Higher or university', np.NaN])\n",
    "\n",
    "df.education_level = df.education_level.replace('9', np.NaN)"
   ]
  },
  {
   "cell_type": "code",
   "execution_count": 12,
   "metadata": {},
   "outputs": [
    {
     "data": {
      "text/html": [
       "<div>\n",
       "<style scoped>\n",
       "    .dataframe tbody tr th:only-of-type {\n",
       "        vertical-align: middle;\n",
       "    }\n",
       "\n",
       "    .dataframe tbody tr th {\n",
       "        vertical-align: top;\n",
       "    }\n",
       "\n",
       "    .dataframe thead th {\n",
       "        text-align: right;\n",
       "    }\n",
       "</style>\n",
       "<table border=\"1\" class=\"dataframe\">\n",
       "  <thead>\n",
       "    <tr style=\"text-align: right;\">\n",
       "      <th></th>\n",
       "      <th>id</th>\n",
       "      <th>order_x</th>\n",
       "      <th>sex</th>\n",
       "      <th>age</th>\n",
       "      <th>education_level</th>\n",
       "      <th>relationship_status</th>\n",
       "      <th>time_lived_in_city</th>\n",
       "      <th>time_lived_in_neighborhood</th>\n",
       "      <th>activity</th>\n",
       "      <th>order_y</th>\n",
       "      <th>...</th>\n",
       "      <th>measures_taken</th>\n",
       "      <th>justify_violence_family</th>\n",
       "      <th>justify_violence_punishment</th>\n",
       "      <th>justify_violence_self-defense</th>\n",
       "      <th>justify_violence_infidelity</th>\n",
       "      <th>justify_violence_defend_stranger</th>\n",
       "      <th>justify_violence_defend_property</th>\n",
       "      <th>action_taken_as_witness</th>\n",
       "      <th>pedestrian_bridges</th>\n",
       "      <th>city_security_inc_dec_same</th>\n",
       "    </tr>\n",
       "  </thead>\n",
       "  <tbody>\n",
       "    <tr>\n",
       "      <th>0</th>\n",
       "      <td>225001</td>\n",
       "      <td>1</td>\n",
       "      <td>1</td>\n",
       "      <td>48</td>\n",
       "      <td>3</td>\n",
       "      <td>2</td>\n",
       "      <td>4</td>\n",
       "      <td>4</td>\n",
       "      <td>1</td>\n",
       "      <td>1</td>\n",
       "      <td>...</td>\n",
       "      <td>5</td>\n",
       "      <td>1</td>\n",
       "      <td>1</td>\n",
       "      <td>1</td>\n",
       "      <td>2</td>\n",
       "      <td>2</td>\n",
       "      <td>1</td>\n",
       "      <td>4</td>\n",
       "      <td>1</td>\n",
       "      <td>3</td>\n",
       "    </tr>\n",
       "    <tr>\n",
       "      <th>1</th>\n",
       "      <td>225002</td>\n",
       "      <td>1</td>\n",
       "      <td>1</td>\n",
       "      <td>26</td>\n",
       "      <td>6</td>\n",
       "      <td>6</td>\n",
       "      <td>3</td>\n",
       "      <td>1</td>\n",
       "      <td>1</td>\n",
       "      <td>1</td>\n",
       "      <td>...</td>\n",
       "      <td>1</td>\n",
       "      <td>1</td>\n",
       "      <td>2</td>\n",
       "      <td>1</td>\n",
       "      <td>2</td>\n",
       "      <td>2</td>\n",
       "      <td>2</td>\n",
       "      <td>2</td>\n",
       "      <td>3</td>\n",
       "      <td>3</td>\n",
       "    </tr>\n",
       "    <tr>\n",
       "      <th>2</th>\n",
       "      <td>225003</td>\n",
       "      <td>1</td>\n",
       "      <td>2</td>\n",
       "      <td>44</td>\n",
       "      <td>4</td>\n",
       "      <td>4</td>\n",
       "      <td>1</td>\n",
       "      <td>1</td>\n",
       "      <td>1</td>\n",
       "      <td>1</td>\n",
       "      <td>...</td>\n",
       "      <td>3</td>\n",
       "      <td>1</td>\n",
       "      <td>2</td>\n",
       "      <td>1</td>\n",
       "      <td>2</td>\n",
       "      <td>2</td>\n",
       "      <td>2</td>\n",
       "      <td>4</td>\n",
       "      <td>3</td>\n",
       "      <td>3</td>\n",
       "    </tr>\n",
       "    <tr>\n",
       "      <th>3</th>\n",
       "      <td>225004</td>\n",
       "      <td>1</td>\n",
       "      <td>1</td>\n",
       "      <td>62</td>\n",
       "      <td>3</td>\n",
       "      <td>3</td>\n",
       "      <td>4</td>\n",
       "      <td>4</td>\n",
       "      <td>1</td>\n",
       "      <td>1</td>\n",
       "      <td>...</td>\n",
       "      <td>3</td>\n",
       "      <td>1</td>\n",
       "      <td>2</td>\n",
       "      <td>1</td>\n",
       "      <td>2</td>\n",
       "      <td>1</td>\n",
       "      <td>2</td>\n",
       "      <td>3</td>\n",
       "      <td>3</td>\n",
       "      <td>3</td>\n",
       "    </tr>\n",
       "    <tr>\n",
       "      <th>4</th>\n",
       "      <td>225005</td>\n",
       "      <td>1</td>\n",
       "      <td>1</td>\n",
       "      <td>43</td>\n",
       "      <td>4</td>\n",
       "      <td>3</td>\n",
       "      <td>1</td>\n",
       "      <td>1</td>\n",
       "      <td>1</td>\n",
       "      <td>1</td>\n",
       "      <td>...</td>\n",
       "      <td>5</td>\n",
       "      <td>1</td>\n",
       "      <td>2</td>\n",
       "      <td>1</td>\n",
       "      <td>2</td>\n",
       "      <td>2</td>\n",
       "      <td>2</td>\n",
       "      <td>1</td>\n",
       "      <td>1</td>\n",
       "      <td>3</td>\n",
       "    </tr>\n",
       "  </tbody>\n",
       "</table>\n",
       "<p>5 rows × 35 columns</p>\n",
       "</div>"
      ],
      "text/plain": [
       "       id  order_x  sex  age education_level relationship_status  \\\n",
       "0  225001        1    1   48               3                   2   \n",
       "1  225002        1    1   26               6                   6   \n",
       "2  225003        1    2   44               4                   4   \n",
       "3  225004        1    1   62               3                   3   \n",
       "4  225005        1    1   43               4                   3   \n",
       "\n",
       "  time_lived_in_city time_lived_in_neighborhood activity  order_y  ...  \\\n",
       "0                  4                          4        1        1  ...   \n",
       "1                  3                          1        1        1  ...   \n",
       "2                  1                          1        1        1  ...   \n",
       "3                  4                          4        1        1  ...   \n",
       "4                  1                          1        1        1  ...   \n",
       "\n",
       "   measures_taken  justify_violence_family justify_violence_punishment  \\\n",
       "0               5                        1                           1   \n",
       "1               1                        1                           2   \n",
       "2               3                        1                           2   \n",
       "3               3                        1                           2   \n",
       "4               5                        1                           2   \n",
       "\n",
       "   justify_violence_self-defense  justify_violence_infidelity  \\\n",
       "0                              1                            2   \n",
       "1                              1                            2   \n",
       "2                              1                            2   \n",
       "3                              1                            2   \n",
       "4                              1                            2   \n",
       "\n",
       "   justify_violence_defend_stranger  justify_violence_defend_property  \\\n",
       "0                                 2                                 1   \n",
       "1                                 2                                 2   \n",
       "2                                 2                                 2   \n",
       "3                                 1                                 2   \n",
       "4                                 2                                 2   \n",
       "\n",
       "   action_taken_as_witness  pedestrian_bridges  city_security_inc_dec_same  \n",
       "0                        4                   1                           3  \n",
       "1                        2                   3                           3  \n",
       "2                        4                   3                           3  \n",
       "3                        3                   3                           3  \n",
       "4                        1                   1                           3  \n",
       "\n",
       "[5 rows x 35 columns]"
      ]
     },
     "execution_count": 12,
     "metadata": {},
     "output_type": "execute_result"
    }
   ],
   "source": [
    "df.head()"
   ]
  },
  {
   "cell_type": "code",
   "execution_count": 13,
   "metadata": {},
   "outputs": [],
   "source": [
    "# relationship_to_head_of_household"
   ]
  },
  {
   "cell_type": "code",
   "execution_count": 14,
   "metadata": {},
   "outputs": [
    {
     "data": {
      "text/plain": [
       "21"
      ]
     },
     "execution_count": 14,
     "metadata": {},
     "output_type": "execute_result"
    }
   ],
   "source": [
    "df.education_level.isnull().sum()"
   ]
  },
  {
   "cell_type": "code",
   "execution_count": 15,
   "metadata": {},
   "outputs": [],
   "source": [
    "# relationship_status\n",
    "\n",
    "df.relationship_status = df.relationship_status.replace(['1','2','3','4','5','6'],\n",
    "                                                ['Not married, lived with partner for less than 2 years',\n",
    "                                                 'Not married, lived with a partner for more than 2 years',\n",
    "                                                 'Married',\n",
    "                                                 'Widower',\n",
    "                                                 'Separated or divorced',\n",
    "                                                 'Single',])"
   ]
  },
  {
   "cell_type": "code",
   "execution_count": 16,
   "metadata": {},
   "outputs": [],
   "source": [
    "# activity\n",
    "\n",
    "df.activity = df.activity.replace(['1','2','3','4','5','6','7','8'],\n",
    "                                    ['Working',\n",
    "                                    'Looking for work',\n",
    "                                    'Studying',\n",
    "                                    'Household duties ',\n",
    "                                    'Permanently incapable of working',\n",
    "                                    'Retired',\n",
    "                                    'Leisure',\n",
    "                                     np.NaN])"
   ]
  },
  {
   "cell_type": "code",
   "execution_count": 17,
   "metadata": {},
   "outputs": [
    {
     "data": {
      "text/plain": [
       "Working                             42119\n",
       "Household duties                    11646\n",
       "Retired                              5132\n",
       "Looking for work                     1692\n",
       "Leisure                              1236\n",
       "Studying                             1134\n",
       "Permanently incapable of working     1003\n",
       "Name: activity, dtype: int64"
      ]
     },
     "execution_count": 17,
     "metadata": {},
     "output_type": "execute_result"
    }
   ],
   "source": [
    "df.activity.value_counts()"
   ]
  },
  {
   "cell_type": "code",
   "execution_count": 18,
   "metadata": {},
   "outputs": [],
   "source": [
    "# dwelling_type\n",
    "\n",
    "df.dwelling_type = df.dwelling_type.replace([1,2,3,4], \n",
    "                                            ['House', 'Apartment', 'Room', 'Other'])"
   ]
  },
  {
   "cell_type": "code",
   "execution_count": 19,
   "metadata": {},
   "outputs": [],
   "source": [
    "# own_rent_usufruct_other\n",
    "\n",
    "df['housing_status'] = df.housing_status.replace([1,2,3,4],\n",
    "                                                 ['Owned', 'Leased', 'In usufruct', 'Other'])"
   ]
  },
  {
   "cell_type": "code",
   "execution_count": 20,
   "metadata": {},
   "outputs": [],
   "source": [
    "# dept_muni\n",
    "\n",
    "df.dept_muni = df.dept_muni.replace([5001, \n",
    "                                     8001,\n",
    "                                     8758,\n",
    "                                     11001,\n",
    "                                     13001,\n",
    "                                     15001,\n",
    "                                     17001,\n",
    "                                     19001,\n",
    "                                     20001,\n",
    "                                     23001,\n",
    "                                     25754,\n",
    "                                     27001,\n",
    "                                     41001,\n",
    "                                     44001,\n",
    "                                     47001,\n",
    "                                     50001,\n",
    "                                     52001,\n",
    "                                     54001,\n",
    "                                     63001,\n",
    "                                     66001,\n",
    "                                     68001,\n",
    "                                     70001,\n",
    "                                     73001,\n",
    "                                     76001,\n",
    "                                     76109,\n",
    "                                     76520,\n",
    "                                     76834,\n",
    "                                     88001], ['Medellín',\n",
    "                                    'Barranquilla',\n",
    "                                    'Soledad',\n",
    "                                    'Bogotá DC',\n",
    "                                    'Cartagena',\n",
    "                                    'Tunja',\n",
    "                                    'Manizales',\n",
    "                                    'Popayán',\n",
    "                                    'Valledupar',\n",
    "                                    'Montería',\n",
    "                                    'Soacha',\n",
    "                                    'Quibdó',\n",
    "                                    'Neiva',\n",
    "                                    'Riohacha',\n",
    "                                    'Santa Marta',\n",
    "                                    'Villavicencio',\n",
    "                                    'Pasto',\n",
    "                                    'Cúcuta',\n",
    "                                    'Armenia',\n",
    "                                    'Pereira',\n",
    "                                    'Bucaramanga',\n",
    "                                    'Sincelejo',\n",
    "                                    'Ibagué',\n",
    "                                    'Cali',\n",
    "                                    'Buenaventura',\n",
    "                                    'Palmira',\n",
    "                                    'Tuluá',\n",
    "                                    'San Andrés'])"
   ]
  },
  {
   "cell_type": "code",
   "execution_count": 21,
   "metadata": {},
   "outputs": [
    {
     "data": {
      "text/plain": [
       "(64406, 33)"
      ]
     },
     "execution_count": 21,
     "metadata": {},
     "output_type": "execute_result"
    }
   ],
   "source": [
    "for col in df.columns:\n",
    "    if len(df[col].unique()) == 1:\n",
    "        df = df.drop(col,axis=1)\n",
    "df.shape"
   ]
  },
  {
   "cell_type": "code",
   "execution_count": 22,
   "metadata": {},
   "outputs": [],
   "source": [
    "import numpy as np\n",
    "\n",
    "df = df.replace(' ', np.NaN)"
   ]
  },
  {
   "cell_type": "code",
   "execution_count": 23,
   "metadata": {},
   "outputs": [],
   "source": [
    "df = df.drop(['id'], axis=1)"
   ]
  },
  {
   "cell_type": "code",
   "execution_count": 24,
   "metadata": {},
   "outputs": [
    {
     "data": {
      "text/plain": [
       "(64406, 32)"
      ]
     },
     "execution_count": 24,
     "metadata": {},
     "output_type": "execute_result"
    }
   ],
   "source": [
    "df.shape"
   ]
  },
  {
   "cell_type": "code",
   "execution_count": 25,
   "metadata": {},
   "outputs": [],
   "source": [
    "df = df.dropna()"
   ]
  },
  {
   "cell_type": "code",
   "execution_count": 26,
   "metadata": {},
   "outputs": [
    {
     "data": {
      "text/plain": [
       "(63657, 32)"
      ]
     },
     "execution_count": 26,
     "metadata": {},
     "output_type": "execute_result"
    }
   ],
   "source": [
    "df.shape"
   ]
  },
  {
   "cell_type": "code",
   "execution_count": 27,
   "metadata": {},
   "outputs": [],
   "source": [
    "objects = df.select_dtypes('object').columns.tolist()"
   ]
  },
  {
   "cell_type": "code",
   "execution_count": 28,
   "metadata": {},
   "outputs": [
    {
     "data": {
      "text/plain": [
       "Index(['sex', 'age', 'education_level', 'relationship_status',\n",
       "       'time_lived_in_city', 'time_lived_in_neighborhood', 'activity',\n",
       "       'dwelling_type', 'electricity_service', 'social_stratum',\n",
       "       'housing_status', 'dept_muni', 'general_safe_unsafe',\n",
       "       'city_safe_unsafe', 'will_be_victim_next_12_months',\n",
       "       'activity_location_safe_unsafe',\n",
       "       'public_parks_recreational_sports_spaces',\n",
       "       'market_squares_shopping_streets', 'public_transportation', 'ATMs',\n",
       "       'public_roads', 'nightclubs_bars_entertainment_venues',\n",
       "       'measures_taken', 'justify_violence_family',\n",
       "       'justify_violence_punishment', 'justify_violence_self-defense',\n",
       "       'justify_violence_infidelity', 'justify_violence_defend_stranger',\n",
       "       'justify_violence_defend_property', 'action_taken_as_witness',\n",
       "       'pedestrian_bridges', 'city_security_inc_dec_same'],\n",
       "      dtype='object')"
      ]
     },
     "execution_count": 28,
     "metadata": {},
     "output_type": "execute_result"
    }
   ],
   "source": [
    "df.columns"
   ]
  },
  {
   "cell_type": "code",
   "execution_count": 29,
   "metadata": {},
   "outputs": [],
   "source": [
    "column_list = df.nunique().index.tolist()"
   ]
  },
  {
   "cell_type": "code",
   "execution_count": 30,
   "metadata": {},
   "outputs": [
    {
     "data": {
      "text/plain": [
       "['sex',\n",
       " 'age',\n",
       " 'education_level',\n",
       " 'relationship_status',\n",
       " 'time_lived_in_city',\n",
       " 'time_lived_in_neighborhood',\n",
       " 'activity',\n",
       " 'dwelling_type',\n",
       " 'electricity_service',\n",
       " 'social_stratum',\n",
       " 'housing_status',\n",
       " 'dept_muni',\n",
       " 'general_safe_unsafe',\n",
       " 'city_safe_unsafe',\n",
       " 'will_be_victim_next_12_months',\n",
       " 'activity_location_safe_unsafe',\n",
       " 'public_parks_recreational_sports_spaces',\n",
       " 'market_squares_shopping_streets',\n",
       " 'public_transportation',\n",
       " 'ATMs',\n",
       " 'public_roads',\n",
       " 'nightclubs_bars_entertainment_venues',\n",
       " 'measures_taken',\n",
       " 'justify_violence_family',\n",
       " 'justify_violence_punishment',\n",
       " 'justify_violence_self-defense',\n",
       " 'justify_violence_infidelity',\n",
       " 'justify_violence_defend_stranger',\n",
       " 'justify_violence_defend_property',\n",
       " 'action_taken_as_witness',\n",
       " 'pedestrian_bridges',\n",
       " 'city_security_inc_dec_same']"
      ]
     },
     "execution_count": 30,
     "metadata": {},
     "output_type": "execute_result"
    }
   ],
   "source": [
    "column_list"
   ]
  },
  {
   "cell_type": "markdown",
   "metadata": {},
   "source": [
    "# Build Model"
   ]
  },
  {
   "cell_type": "code",
   "execution_count": 31,
   "metadata": {},
   "outputs": [],
   "source": [
    "target = column_list[12]\n",
    "leakage = column_list[12:22]+['city_security_inc_dec_same']"
   ]
  },
  {
   "cell_type": "code",
   "execution_count": 32,
   "metadata": {},
   "outputs": [
    {
     "name": "stdout",
     "output_type": "stream",
     "text": [
      "Baseline Accuracy: 71.33%\n"
     ]
    }
   ],
   "source": [
    "print('Baseline Accuracy:',str(round(df[target].value_counts(normalize=True).max()*100,2))+ '%')"
   ]
  },
  {
   "cell_type": "code",
   "execution_count": 33,
   "metadata": {},
   "outputs": [],
   "source": [
    "from sklearn.model_selection import train_test_split\n",
    "train, test = train_test_split(df, train_size=0.85, test_size=0.15, \n",
    "                              stratify=df['general_safe_unsafe'], random_state=42)\n",
    "\n",
    "train, val = train_test_split(train, train_size=0.85, test_size=0.15, \n",
    "                              stratify=train['general_safe_unsafe'], random_state=42)"
   ]
  },
  {
   "cell_type": "code",
   "execution_count": 34,
   "metadata": {},
   "outputs": [
    {
     "name": "stdout",
     "output_type": "stream",
     "text": [
      "(45991, 32)\n",
      "(8117, 32)\n",
      "(9549, 32)\n"
     ]
    }
   ],
   "source": [
    "print(train.shape)\n",
    "print(val.shape)\n",
    "print(test.shape)"
   ]
  },
  {
   "cell_type": "code",
   "execution_count": 35,
   "metadata": {},
   "outputs": [
    {
     "name": "stdout",
     "output_type": "stream",
     "text": [
      "(45991,)\n",
      "(45991, 21)\n",
      "(8117,)\n",
      "(8117, 21)\n",
      "(9549,)\n",
      "(9549, 21)\n"
     ]
    }
   ],
   "source": [
    "y_train = train[target]\n",
    "y_val = val[target]\n",
    "y_test = test[target]\n",
    "\n",
    "X_train = train.drop(train[leakage], axis=1)\n",
    "X_val = val.drop(val[leakage], axis=1)\n",
    "X_test = test.drop(test[leakage], axis=1)\n",
    "\n",
    "print(y_train.shape)\n",
    "print(X_train.shape)\n",
    "\n",
    "print(y_val.shape)\n",
    "print(X_val.shape)\n",
    "\n",
    "print(y_test.shape)\n",
    "print(X_test.shape)"
   ]
  },
  {
   "cell_type": "code",
   "execution_count": 68,
   "metadata": {},
   "outputs": [
    {
     "data": {
      "text/plain": [
       "['relationship_status',\n",
       " 'time_lived_in_city',\n",
       " 'time_lived_in_neighborhood',\n",
       " 'activity',\n",
       " 'dwelling_type',\n",
       " 'social_stratum',\n",
       " 'housing_status',\n",
       " 'dept_muni']"
      ]
     },
     "execution_count": 68,
     "metadata": {},
     "output_type": "execute_result"
    }
   ],
   "source": [
    "objects = objects[1:]\n",
    "objects"
   ]
  },
  {
   "cell_type": "code",
   "execution_count": 42,
   "metadata": {},
   "outputs": [
    {
     "name": "stdout",
     "output_type": "stream",
     "text": [
      "Collecting category_encoders\n",
      "  Using cached category_encoders-2.2.2-py2.py3-none-any.whl (80 kB)\n",
      "Requirement already satisfied: scikit-learn>=0.20.0 in ./opt/anaconda3/lib/python3.8/site-packages (from category_encoders) (0.23.1)\n",
      "Requirement already satisfied: patsy>=0.5.1 in ./opt/anaconda3/lib/python3.8/site-packages (from category_encoders) (0.5.1)\n",
      "Requirement already satisfied: scipy>=1.0.0 in ./opt/anaconda3/lib/python3.8/site-packages (from category_encoders) (1.5.0)\n",
      "Requirement already satisfied: statsmodels>=0.9.0 in ./opt/anaconda3/lib/python3.8/site-packages (from category_encoders) (0.11.1)\n",
      "Requirement already satisfied: numpy>=1.14.0 in ./opt/anaconda3/lib/python3.8/site-packages (from category_encoders) (1.18.5)\n",
      "Requirement already satisfied: pandas>=0.21.1 in ./opt/anaconda3/lib/python3.8/site-packages (from category_encoders) (1.0.5)\n",
      "Requirement already satisfied: threadpoolctl>=2.0.0 in ./opt/anaconda3/lib/python3.8/site-packages (from scikit-learn>=0.20.0->category_encoders) (2.1.0)\n",
      "Requirement already satisfied: joblib>=0.11 in ./opt/anaconda3/lib/python3.8/site-packages (from scikit-learn>=0.20.0->category_encoders) (0.16.0)\n",
      "Requirement already satisfied: six in ./opt/anaconda3/lib/python3.8/site-packages (from patsy>=0.5.1->category_encoders) (1.15.0)\n",
      "Requirement already satisfied: python-dateutil>=2.6.1 in ./opt/anaconda3/lib/python3.8/site-packages (from pandas>=0.21.1->category_encoders) (2.8.1)\n",
      "Requirement already satisfied: pytz>=2017.2 in ./opt/anaconda3/lib/python3.8/site-packages (from pandas>=0.21.1->category_encoders) (2020.1)\n",
      "Installing collected packages: category-encoders\n",
      "Successfully installed category-encoders-2.2.2\n"
     ]
    }
   ],
   "source": [
    "!pip install category_encoders"
   ]
  },
  {
   "cell_type": "code",
   "execution_count": 71,
   "metadata": {},
   "outputs": [
    {
     "name": "stdout",
     "output_type": "stream",
     "text": [
      "Validation Accuracy 0.7380805716397684\n",
      "\n",
      "Test Accuracy 0.7380877578804064\n"
     ]
    }
   ],
   "source": [
    "from sklearn.linear_model import LogisticRegression\n",
    "from sklearn.ensemble import RandomForestClassifier\n",
    "from category_encoders import OneHotEncoder\n",
    "from sklearn.pipeline import make_pipeline\n",
    "\n",
    "pipeline = make_pipeline(\n",
    "    OneHotEncoder(cols=objects), \n",
    "    RandomForestClassifier(max_depth=16, n_estimators=156,random_state=42, n_jobs=-1)\n",
    ")\n",
    "\n",
    "# Fit on train, score on val\n",
    "pipeline.fit(X_train, y_train)\n",
    "\n",
    "print('Validation Accuracy', pipeline.score(X_val, y_val))\n",
    "print('\\nTest Accuracy', pipeline.score(X_test, y_test))"
   ]
  },
  {
   "cell_type": "code",
   "execution_count": 66,
   "metadata": {},
   "outputs": [],
   "source": [
    "model = LogisticRegression(max_iter=2000).fit(X_train_transformed, y_train)"
   ]
  },
  {
   "cell_type": "code",
   "execution_count": 67,
   "metadata": {},
   "outputs": [
    {
     "data": {
      "text/plain": [
       "0.7300726869533078"
      ]
     },
     "execution_count": 67,
     "metadata": {},
     "output_type": "execute_result"
    }
   ],
   "source": [
    "model.score(X_val_transformed, y_val)"
   ]
  },
  {
   "cell_type": "code",
   "execution_count": 214,
   "metadata": {},
   "outputs": [],
   "source": [
    "from sklearn.model_selection import GridSearchCV"
   ]
  },
  {
   "cell_type": "code",
   "execution_count": 232,
   "metadata": {},
   "outputs": [
    {
     "data": {
      "text/plain": [
       "{'bootstrap': True,\n",
       " 'ccp_alpha': 0.0,\n",
       " 'class_weight': None,\n",
       " 'criterion': 'gini',\n",
       " 'max_depth': None,\n",
       " 'max_features': 'auto',\n",
       " 'max_leaf_nodes': None,\n",
       " 'max_samples': None,\n",
       " 'min_impurity_decrease': 0.0,\n",
       " 'min_impurity_split': None,\n",
       " 'min_samples_leaf': 1,\n",
       " 'min_samples_split': 2,\n",
       " 'min_weight_fraction_leaf': 0.0,\n",
       " 'n_estimators': 100,\n",
       " 'n_jobs': -1,\n",
       " 'oob_score': False,\n",
       " 'random_state': 42,\n",
       " 'verbose': 0,\n",
       " 'warm_start': False}"
      ]
     },
     "execution_count": 232,
     "metadata": {},
     "output_type": "execute_result"
    }
   ],
   "source": [
    "params = {'n_estimators': range(152,161,2),\n",
    "          'max_depth': range(10,18,2)}\n",
    "\n",
    "model.get_params(deep=True)"
   ]
  },
  {
   "cell_type": "code",
   "execution_count": 233,
   "metadata": {},
   "outputs": [],
   "source": [
    "gs = GridSearchCV(model, param_grid = params, n_jobs =-1, verbose=1, cv=3)"
   ]
  },
  {
   "cell_type": "code",
   "execution_count": 234,
   "metadata": {},
   "outputs": [
    {
     "name": "stdout",
     "output_type": "stream",
     "text": [
      "Fitting 3 folds for each of 20 candidates, totalling 60 fits\n"
     ]
    },
    {
     "name": "stderr",
     "output_type": "stream",
     "text": [
      "[Parallel(n_jobs=-1)]: Using backend LokyBackend with 12 concurrent workers.\n",
      "[Parallel(n_jobs=-1)]: Done  26 tasks      | elapsed:   20.0s\n",
      "[Parallel(n_jobs=-1)]: Done  60 out of  60 | elapsed:   40.8s finished\n"
     ]
    },
    {
     "data": {
      "text/plain": [
       "GridSearchCV(cv=3, estimator=RandomForestClassifier(n_jobs=-1, random_state=42),\n",
       "             n_jobs=-1,\n",
       "             param_grid={'max_depth': range(10, 18, 2),\n",
       "                         'n_estimators': range(152, 161, 2)},\n",
       "             verbose=1)"
      ]
     },
     "execution_count": 234,
     "metadata": {},
     "output_type": "execute_result"
    }
   ],
   "source": [
    "gs.fit(X_train,y_train)"
   ]
  },
  {
   "cell_type": "code",
   "execution_count": 235,
   "metadata": {},
   "outputs": [
    {
     "data": {
      "text/plain": [
       "{'max_depth': 16, 'n_estimators': 156}"
      ]
     },
     "execution_count": 235,
     "metadata": {},
     "output_type": "execute_result"
    }
   ],
   "source": [
    "gs.best_params_"
   ]
  },
  {
   "cell_type": "code",
   "execution_count": 198,
   "metadata": {},
   "outputs": [
    {
     "data": {
      "image/png": "[encoded data removed]",
      "text/plain": [
       "<Figure size 720x720 with 1 Axes>"
      ]
     },
     "metadata": {
      "needs_background": "light"
     },
     "output_type": "display_data"
    }
   ],
   "source": [
    "# Get feature importances\n",
    "\n",
    "importances = pd.Series(model.feature_importances_, X_train.columns)\n",
    "\n",
    "# Plot feature importances\n",
    "%matplotlib inline\n",
    "import matplotlib.pyplot as plt\n",
    "\n",
    "n = 20\n",
    "plt.figure(figsize=(10,n/2))\n",
    "plt.title(f'Top {n} features')\n",
    "importances.sort_values()[-n:].plot.barh(color='grey');"
   ]
  },
  {
   "cell_type": "markdown",
   "metadata": {},
   "source": [
    "# Alternate Target: Sex"
   ]
  },
  {
   "cell_type": "code",
   "execution_count": 98,
   "metadata": {},
   "outputs": [
    {
     "name": "stdout",
     "output_type": "stream",
     "text": [
      "(45991,)\n",
      "(45991, 31)\n",
      "(8117,)\n",
      "(8117, 31)\n",
      "(9549,)\n",
      "(9549, 31)\n"
     ]
    }
   ],
   "source": [
    "target2 = 'age'\n",
    "\n",
    "y_train2 = train[target2]\n",
    "y_val2 = val[target2]\n",
    "y_test2 = test[target2]\n",
    "\n",
    "X_train2 = train.drop(target2, axis=1)\n",
    "X_val2 = val.drop(target2, axis=1)\n",
    "X_test2 = test.drop(target2, axis=1)\n",
    "\n",
    "print(y_train2.shape)\n",
    "print(X_train2.shape)\n",
    "\n",
    "print(y_val2.shape)\n",
    "print(X_val2.shape)\n",
    "\n",
    "print(y_test2.shape)\n",
    "print(X_test2.shape)"
   ]
  },
  {
   "cell_type": "code",
   "execution_count": 99,
   "metadata": {},
   "outputs": [
    {
     "name": "stdout",
     "output_type": "stream",
     "text": [
      "Baseline Accuracy: 49.0\n"
     ]
    }
   ],
   "source": [
    "# noncat \n",
    "print('Baseline Accuracy:',str(round(df[target2].mean(),0)))\n",
    "# cat print('Baseline Accuracy:',str(round(df[target2].value_counts(normalize=True).max()*100,2))+ '%')"
   ]
  },
  {
   "cell_type": "code",
   "execution_count": 91,
   "metadata": {},
   "outputs": [
    {
     "data": {
      "text/plain": [
       "1    0.55444\n",
       "2    0.44556\n",
       "Name: sex, dtype: float64"
      ]
     },
     "execution_count": 91,
     "metadata": {},
     "output_type": "execute_result"
    }
   ],
   "source": []
  },
  {
   "cell_type": "code",
   "execution_count": 100,
   "metadata": {},
   "outputs": [
    {
     "name": "stdout",
     "output_type": "stream",
     "text": [
      "Validation Accuracy 0.5893263634839199\n",
      "\n",
      "Test Accuracy 0.604293573055284\n"
     ]
    }
   ],
   "source": [
    "from sklearn.linear_model import LogisticRegression\n",
    "from sklearn.linear_model import LinearRegression\n",
    "from sklearn.ensemble import RandomForestClassifier\n",
    "from sklearn.ensemble import RandomForestRegressor\n",
    "from category_encoders import OneHotEncoder\n",
    "from sklearn.pipeline import make_pipeline\n",
    "\n",
    "pipeline = make_pipeline(\n",
    "    OneHotEncoder(cols=objects), \n",
    "    RandomForestRegressor(max_depth=16, n_estimators=156,random_state=42, n_jobs=-1)\n",
    ")\n",
    "\n",
    "# Fit on train, score on val\n",
    "pipeline.fit(X_train2, y_train2)\n",
    "\n",
    "print('Validation Accuracy', pipeline.score(X_val2, y_val2))\n",
    "print('\\nTest Accuracy', pipeline.score(X_test2, y_test2))"
   ]
  },
  {
   "cell_type": "code",
   "execution_count": null,
   "metadata": {},
   "outputs": [],
   "source": [
    "model = LogisticRegression(max_iter=2000).fit(X_train2, y_train)"
   ]
  }
 ],
 "metadata": {
  "kernelspec": {
   "display_name": "Python 3",
   "language": "python",
   "name": "python3"
  },
  "language_info": {
   "codemirror_mode": {
    "name": "ipython",
    "version": 3
   },
   "file_extension": ".py",
   "mimetype": "text/x-python",
   "name": "python",
   "nbconvert_exporter": "python",
   "pygments_lexer": "ipython3",
   "version": "3.8.3"
  }
 },
 "nbformat": 4,
 "nbformat_minor": 4
}
